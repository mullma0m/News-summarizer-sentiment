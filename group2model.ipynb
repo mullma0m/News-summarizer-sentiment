{
 "cells": [
  {
   "cell_type": "code",
   "execution_count": 1,
   "metadata": {},
   "outputs": [],
   "source": [
    "from datasets import load_dataset\n",
    "\n",
    "# Load financial sentiment dataset\n",
    "dataset = load_dataset('Jean-Baptiste/financial_news_sentiment_mixte_with_phrasebank_75')\n",
    "\n",
    "# Use the columns 'summary_detail_with_title' for text and 'labels' for labels\n",
    "dataset = dataset.rename_column(\"summary_detail_with_title\", \"text\")\n",
    "dataset = dataset.rename_column(\"labels\", \"label\")\n",
    "\n",
    "# Split the dataset into train and test\n",
    "train_dataset = dataset['train']\n",
    "test_dataset = dataset['test']\n"
   ]
  },
  {
   "cell_type": "code",
   "execution_count": 4,
   "metadata": {},
   "outputs": [
    {
     "name": "stderr",
     "output_type": "stream",
     "text": [
      "Some weights of DistilBertForSequenceClassification were not initialized from the model checkpoint at distilbert-base-uncased and are newly initialized: ['classifier.bias', 'classifier.weight', 'pre_classifier.bias', 'pre_classifier.weight']\n",
      "You should probably TRAIN this model on a down-stream task to be able to use it for predictions and inference.\n"
     ]
    },
    {
     "data": {
      "application/vnd.jupyter.widget-view+json": {
       "model_id": "9509d92a67ab44abaa752249b0086013",
       "version_major": 2,
       "version_minor": 0
      },
      "text/plain": [
       "Map:   0%|          | 0/4446 [00:00<?, ? examples/s]"
      ]
     },
     "metadata": {},
     "output_type": "display_data"
    },
    {
     "data": {
      "application/vnd.jupyter.widget-view+json": {
       "model_id": "9e78b008c4b7475bb5f99ad78ef032dc",
       "version_major": 2,
       "version_minor": 0
      },
      "text/plain": [
       "Map:   0%|          | 0/785 [00:00<?, ? examples/s]"
      ]
     },
     "metadata": {},
     "output_type": "display_data"
    },
    {
     "data": {
      "application/vnd.jupyter.widget-view+json": {
       "model_id": "509af2157435401691bcd7b06f1be639",
       "version_major": 2,
       "version_minor": 0
      },
      "text/plain": [
       "  0%|          | 0/834 [00:00<?, ?it/s]"
      ]
     },
     "metadata": {},
     "output_type": "display_data"
    },
    {
     "data": {
      "application/vnd.jupyter.widget-view+json": {
       "model_id": "ef6efa33192b4977a0d8255e8e2c4c99",
       "version_major": 2,
       "version_minor": 0
      },
      "text/plain": [
       "  0%|          | 0/50 [00:00<?, ?it/s]"
      ]
     },
     "metadata": {},
     "output_type": "display_data"
    },
    {
     "name": "stdout",
     "output_type": "stream",
     "text": [
      "{'eval_loss': 0.2985990643501282, 'eval_accuracy': 0.8968152866242038, 'eval_f1': 0.8621164021164022, 'eval_precision': 0.8958780706525377, 'eval_recall': 0.8375281610724649, 'eval_runtime': 51.3086, 'eval_samples_per_second': 15.3, 'eval_steps_per_second': 0.974, 'epoch': 1.0}\n",
      "{'loss': 0.3644, 'grad_norm': 13.122971534729004, 'learning_rate': 8.00959232613909e-06, 'epoch': 1.8}\n"
     ]
    },
    {
     "data": {
      "application/vnd.jupyter.widget-view+json": {
       "model_id": "a8799efbbeef427a91fbeedc403237a1",
       "version_major": 2,
       "version_minor": 0
      },
      "text/plain": [
       "  0%|          | 0/50 [00:00<?, ?it/s]"
      ]
     },
     "metadata": {},
     "output_type": "display_data"
    },
    {
     "name": "stdout",
     "output_type": "stream",
     "text": [
      "{'eval_loss': 0.24950481951236725, 'eval_accuracy': 0.9159235668789809, 'eval_f1': 0.8926650338758898, 'eval_precision': 0.902553535616302, 'eval_recall': 0.8848077288583617, 'eval_runtime': 51.1886, 'eval_samples_per_second': 15.335, 'eval_steps_per_second': 0.977, 'epoch': 2.0}\n"
     ]
    },
    {
     "data": {
      "application/vnd.jupyter.widget-view+json": {
       "model_id": "c306d5afcee6470a9bc0e65396892b09",
       "version_major": 2,
       "version_minor": 0
      },
      "text/plain": [
       "  0%|          | 0/50 [00:00<?, ?it/s]"
      ]
     },
     "metadata": {},
     "output_type": "display_data"
    },
    {
     "name": "stdout",
     "output_type": "stream",
     "text": [
      "{'eval_loss': 0.2916184067726135, 'eval_accuracy': 0.9146496815286624, 'eval_f1': 0.8949417705913413, 'eval_precision': 0.8985332821123411, 'eval_recall': 0.8927445069217222, 'eval_runtime': 51.2396, 'eval_samples_per_second': 15.32, 'eval_steps_per_second': 0.976, 'epoch': 3.0}\n",
      "{'train_runtime': 2914.7569, 'train_samples_per_second': 4.576, 'train_steps_per_second': 0.286, 'train_loss': 0.27664396802870206, 'epoch': 3.0}\n"
     ]
    },
    {
     "data": {
      "application/vnd.jupyter.widget-view+json": {
       "model_id": "fcf39edf4803436596ae5b6ff7e3bec5",
       "version_major": 2,
       "version_minor": 0
      },
      "text/plain": [
       "  0%|          | 0/50 [00:00<?, ?it/s]"
      ]
     },
     "metadata": {},
     "output_type": "display_data"
    },
    {
     "name": "stderr",
     "output_type": "stream",
     "text": [
      "c:\\Users\\Mulla\\AppData\\Local\\Programs\\Python\\Python39\\lib\\site-packages\\transformers\\training_args.py:1474: FutureWarning: `evaluation_strategy` is deprecated and will be removed in version 4.46 of 🤗 Transformers. Use `eval_strategy` instead\n",
      "  warnings.warn(\n"
     ]
    },
    {
     "data": {
      "application/vnd.jupyter.widget-view+json": {
       "model_id": "c62f808461aa40d1a5748819f6c43022",
       "version_major": 2,
       "version_minor": 0
      },
      "text/plain": [
       "  0%|          | 0/1112 [00:00<?, ?it/s]"
      ]
     },
     "metadata": {},
     "output_type": "display_data"
    },
    {
     "data": {
      "application/vnd.jupyter.widget-view+json": {
       "model_id": "2c1256c7646b4238b0ee7b84d3e38344",
       "version_major": 2,
       "version_minor": 0
      },
      "text/plain": [
       "  0%|          | 0/50 [00:00<?, ?it/s]"
      ]
     },
     "metadata": {},
     "output_type": "display_data"
    },
    {
     "name": "stdout",
     "output_type": "stream",
     "text": [
      "{'eval_loss': 0.3380712568759918, 'eval_accuracy': 0.9159235668789809, 'eval_f1': 0.8904395125025512, 'eval_precision': 0.9125043697657805, 'eval_recall': 0.8742285030892626, 'eval_runtime': 54.7761, 'eval_samples_per_second': 14.331, 'eval_steps_per_second': 0.913, 'epoch': 1.0}\n",
      "{'loss': 0.1136, 'grad_norm': 0.08014512807130814, 'learning_rate': 1.1007194244604318e-05, 'epoch': 1.8}\n"
     ]
    },
    {
     "data": {
      "application/vnd.jupyter.widget-view+json": {
       "model_id": "180e676001fe45fcb6d5fb5d5a5b7be6",
       "version_major": 2,
       "version_minor": 0
      },
      "text/plain": [
       "  0%|          | 0/50 [00:00<?, ?it/s]"
      ]
     },
     "metadata": {},
     "output_type": "display_data"
    },
    {
     "name": "stdout",
     "output_type": "stream",
     "text": [
      "{'eval_loss': 0.3575266897678375, 'eval_accuracy': 0.9210191082802548, 'eval_f1': 0.9003016748304432, 'eval_precision': 0.9198336804227406, 'eval_recall': 0.8836373276879607, 'eval_runtime': 51.8557, 'eval_samples_per_second': 15.138, 'eval_steps_per_second': 0.964, 'epoch': 2.0}\n"
     ]
    },
    {
     "data": {
      "application/vnd.jupyter.widget-view+json": {
       "model_id": "055ab405e154497ba30f6036ce2fd13b",
       "version_major": 2,
       "version_minor": 0
      },
      "text/plain": [
       "  0%|          | 0/50 [00:00<?, ?it/s]"
      ]
     },
     "metadata": {},
     "output_type": "display_data"
    },
    {
     "name": "stdout",
     "output_type": "stream",
     "text": [
      "{'eval_loss': 0.4142042100429535, 'eval_accuracy': 0.9210191082802548, 'eval_f1': 0.8998463875713746, 'eval_precision': 0.9098976305498044, 'eval_recall': 0.8911061402200643, 'eval_runtime': 53.3866, 'eval_samples_per_second': 14.704, 'eval_steps_per_second': 0.937, 'epoch': 3.0}\n",
      "{'loss': 0.0431, 'grad_norm': 0.04857219010591507, 'learning_rate': 2.0143884892086333e-06, 'epoch': 3.6}\n"
     ]
    },
    {
     "data": {
      "application/vnd.jupyter.widget-view+json": {
       "model_id": "78f7088a48fc40baafda65f28333a36c",
       "version_major": 2,
       "version_minor": 0
      },
      "text/plain": [
       "  0%|          | 0/50 [00:00<?, ?it/s]"
      ]
     },
     "metadata": {},
     "output_type": "display_data"
    },
    {
     "name": "stdout",
     "output_type": "stream",
     "text": [
      "{'eval_loss': 0.44439440965652466, 'eval_accuracy': 0.9210191082802548, 'eval_f1': 0.9022904206191805, 'eval_precision': 0.9062181073291283, 'eval_recall': 0.8989474381879444, 'eval_runtime': 52.2358, 'eval_samples_per_second': 15.028, 'eval_steps_per_second': 0.957, 'epoch': 4.0}\n",
      "{'train_runtime': 3950.1624, 'train_samples_per_second': 4.502, 'train_steps_per_second': 0.282, 'train_loss': 0.0732142935982711, 'epoch': 4.0}\n"
     ]
    },
    {
     "data": {
      "application/vnd.jupyter.widget-view+json": {
       "model_id": "ad2ae6d552ed43ed8752170918ffb405",
       "version_major": 2,
       "version_minor": 0
      },
      "text/plain": [
       "  0%|          | 0/50 [00:00<?, ?it/s]"
      ]
     },
     "metadata": {},
     "output_type": "display_data"
    },
    {
     "name": "stderr",
     "output_type": "stream",
     "text": [
      "c:\\Users\\Mulla\\AppData\\Local\\Programs\\Python\\Python39\\lib\\site-packages\\transformers\\training_args.py:1474: FutureWarning: `evaluation_strategy` is deprecated and will be removed in version 4.46 of 🤗 Transformers. Use `eval_strategy` instead\n",
      "  warnings.warn(\n"
     ]
    },
    {
     "data": {
      "application/vnd.jupyter.widget-view+json": {
       "model_id": "682828e87efa4f51b04007f353038b41",
       "version_major": 2,
       "version_minor": 0
      },
      "text/plain": [
       "  0%|          | 0/834 [00:00<?, ?it/s]"
      ]
     },
     "metadata": {},
     "output_type": "display_data"
    },
    {
     "data": {
      "application/vnd.jupyter.widget-view+json": {
       "model_id": "f13067f2f9874a9095bade70356f0883",
       "version_major": 2,
       "version_minor": 0
      },
      "text/plain": [
       "  0%|          | 0/50 [00:00<?, ?it/s]"
      ]
     },
     "metadata": {},
     "output_type": "display_data"
    },
    {
     "name": "stdout",
     "output_type": "stream",
     "text": [
      "{'eval_loss': 0.48238256573677063, 'eval_accuracy': 0.9235668789808917, 'eval_f1': 0.8995256818323659, 'eval_precision': 0.9113434451842073, 'eval_recall': 0.8889222230994384, 'eval_runtime': 52.3094, 'eval_samples_per_second': 15.007, 'eval_steps_per_second': 0.956, 'epoch': 1.0}\n",
      "{'loss': 0.0543, 'grad_norm': 18.985328674316406, 'learning_rate': 1.2014388489208634e-05, 'epoch': 1.8}\n"
     ]
    },
    {
     "data": {
      "application/vnd.jupyter.widget-view+json": {
       "model_id": "7b3d3301cd8d45c297897ac1b81c25b1",
       "version_major": 2,
       "version_minor": 0
      },
      "text/plain": [
       "  0%|          | 0/50 [00:00<?, ?it/s]"
      ]
     },
     "metadata": {},
     "output_type": "display_data"
    },
    {
     "name": "stdout",
     "output_type": "stream",
     "text": [
      "{'eval_loss': 0.5084881782531738, 'eval_accuracy': 0.9248407643312102, 'eval_f1': 0.9098095136438236, 'eval_precision': 0.9285768287414468, 'eval_recall': 0.8955505846645088, 'eval_runtime': 50.9185, 'eval_samples_per_second': 15.417, 'eval_steps_per_second': 0.982, 'epoch': 2.0}\n"
     ]
    },
    {
     "data": {
      "application/vnd.jupyter.widget-view+json": {
       "model_id": "4f4dc5be091544f6be64f92290c276cc",
       "version_major": 2,
       "version_minor": 0
      },
      "text/plain": [
       "  0%|          | 0/50 [00:00<?, ?it/s]"
      ]
     },
     "metadata": {},
     "output_type": "display_data"
    },
    {
     "name": "stdout",
     "output_type": "stream",
     "text": [
      "{'eval_loss': 0.4929242432117462, 'eval_accuracy': 0.9248407643312102, 'eval_f1': 0.9077022402471124, 'eval_precision': 0.9177022921844794, 'eval_recall': 0.8998654740426892, 'eval_runtime': 51.1396, 'eval_samples_per_second': 15.35, 'eval_steps_per_second': 0.978, 'epoch': 3.0}\n",
      "{'train_runtime': 2940.2345, 'train_samples_per_second': 4.536, 'train_steps_per_second': 0.284, 'train_loss': 0.03961176494900271, 'epoch': 3.0}\n"
     ]
    },
    {
     "data": {
      "application/vnd.jupyter.widget-view+json": {
       "model_id": "44dcfb6e995f44328ea50f1d3fe7f5d3",
       "version_major": 2,
       "version_minor": 0
      },
      "text/plain": [
       "  0%|          | 0/50 [00:00<?, ?it/s]"
      ]
     },
     "metadata": {},
     "output_type": "display_data"
    },
    {
     "name": "stderr",
     "output_type": "stream",
     "text": [
      "c:\\Users\\Mulla\\AppData\\Local\\Programs\\Python\\Python39\\lib\\site-packages\\transformers\\training_args.py:1474: FutureWarning: `evaluation_strategy` is deprecated and will be removed in version 4.46 of 🤗 Transformers. Use `eval_strategy` instead\n",
      "  warnings.warn(\n"
     ]
    },
    {
     "data": {
      "application/vnd.jupyter.widget-view+json": {
       "model_id": "34a822c1e7584078a0286de749fd09b3",
       "version_major": 2,
       "version_minor": 0
      },
      "text/plain": [
       "  0%|          | 0/1112 [00:00<?, ?it/s]"
      ]
     },
     "metadata": {},
     "output_type": "display_data"
    },
    {
     "data": {
      "application/vnd.jupyter.widget-view+json": {
       "model_id": "7de5df426b3a493a9c0043fdf7a934bd",
       "version_major": 2,
       "version_minor": 0
      },
      "text/plain": [
       "  0%|          | 0/50 [00:00<?, ?it/s]"
      ]
     },
     "metadata": {},
     "output_type": "display_data"
    },
    {
     "name": "stdout",
     "output_type": "stream",
     "text": [
      "{'eval_loss': 0.6284554600715637, 'eval_accuracy': 0.9121019108280255, 'eval_f1': 0.8795214822330853, 'eval_precision': 0.9275635721249103, 'eval_recall': 0.8458441693884732, 'eval_runtime': 51.8357, 'eval_samples_per_second': 15.144, 'eval_steps_per_second': 0.965, 'epoch': 1.0}\n",
      "{'loss': 0.0344, 'grad_norm': 0.908665657043457, 'learning_rate': 1.6510791366906477e-05, 'epoch': 1.8}\n"
     ]
    },
    {
     "data": {
      "application/vnd.jupyter.widget-view+json": {
       "model_id": "c817829605174f799a36cfc35cdf2fc7",
       "version_major": 2,
       "version_minor": 0
      },
      "text/plain": [
       "  0%|          | 0/50 [00:00<?, ?it/s]"
      ]
     },
     "metadata": {},
     "output_type": "display_data"
    },
    {
     "name": "stdout",
     "output_type": "stream",
     "text": [
      "{'eval_loss': 0.5701509118080139, 'eval_accuracy': 0.9210191082802548, 'eval_f1': 0.9086191358991912, 'eval_precision': 0.9204272433276057, 'eval_recall': 0.8997359189764254, 'eval_runtime': 51.9017, 'eval_samples_per_second': 15.125, 'eval_steps_per_second': 0.963, 'epoch': 2.0}\n"
     ]
    },
    {
     "data": {
      "application/vnd.jupyter.widget-view+json": {
       "model_id": "be7f7f0105eb4a51945f53f4103625a8",
       "version_major": 2,
       "version_minor": 0
      },
      "text/plain": [
       "  0%|          | 0/50 [00:00<?, ?it/s]"
      ]
     },
     "metadata": {},
     "output_type": "display_data"
    },
    {
     "name": "stdout",
     "output_type": "stream",
     "text": [
      "{'eval_loss': 0.5947762727737427, 'eval_accuracy': 0.9222929936305733, 'eval_f1': 0.9076999897710191, 'eval_precision': 0.9185891654206259, 'eval_recall': 0.8988519580924644, 'eval_runtime': 51.7967, 'eval_samples_per_second': 15.155, 'eval_steps_per_second': 0.965, 'epoch': 3.0}\n",
      "{'loss': 0.0109, 'grad_norm': 0.23762013018131256, 'learning_rate': 3.0215827338129496e-06, 'epoch': 3.6}\n"
     ]
    },
    {
     "data": {
      "application/vnd.jupyter.widget-view+json": {
       "model_id": "6960ae7c6746410cbc46c3d5fd137a49",
       "version_major": 2,
       "version_minor": 0
      },
      "text/plain": [
       "  0%|          | 0/50 [00:00<?, ?it/s]"
      ]
     },
     "metadata": {},
     "output_type": "display_data"
    },
    {
     "name": "stdout",
     "output_type": "stream",
     "text": [
      "{'eval_loss': 0.5921365022659302, 'eval_accuracy': 0.9273885350318471, 'eval_f1': 0.9088065798592114, 'eval_precision': 0.9170096841329718, 'eval_recall': 0.9016239608644673, 'eval_runtime': 51.8497, 'eval_samples_per_second': 15.14, 'eval_steps_per_second': 0.964, 'epoch': 4.0}\n",
      "{'train_runtime': 3877.8262, 'train_samples_per_second': 4.586, 'train_steps_per_second': 0.287, 'train_loss': 0.020876711381853912, 'epoch': 4.0}\n"
     ]
    },
    {
     "data": {
      "application/vnd.jupyter.widget-view+json": {
       "model_id": "ba49d4da464445c2a048e9317505befc",
       "version_major": 2,
       "version_minor": 0
      },
      "text/plain": [
       "  0%|          | 0/50 [00:00<?, ?it/s]"
      ]
     },
     "metadata": {},
     "output_type": "display_data"
    },
    {
     "name": "stdout",
     "output_type": "stream",
     "text": [
      "Best params: {'learning_rate': 3e-05, 'num_train_epochs': 4}, Best accuracy: 0.9273885350318471\n"
     ]
    }
   ],
   "source": [
    "import torch\n",
    "from transformers import AutoTokenizer, AutoModelForSequenceClassification, Trainer, TrainingArguments\n",
    "from sklearn.metrics import accuracy_score, precision_recall_fscore_support\n",
    "from itertools import product\n",
    "\n",
    "# Load pre-trained tokenizer and model\n",
    "model_name = \"distilbert-base-uncased\"\n",
    "tokenizer = AutoTokenizer.from_pretrained(model_name)\n",
    "model = AutoModelForSequenceClassification.from_pretrained(model_name, num_labels=3)\n",
    "\n",
    "# Tokenize the dataset with padding to max length\n",
    "def tokenize(batch):\n",
    "    return tokenizer(batch['text'], padding='max_length', truncation=True, max_length=128)\n",
    "\n",
    "train_dataset = train_dataset.map(tokenize, batched=True)\n",
    "test_dataset = test_dataset.map(tokenize, batched=True)\n",
    "\n",
    "# Set format for PyTorch\n",
    "train_dataset.set_format('torch', columns=['input_ids', 'attention_mask', 'label'])\n",
    "test_dataset.set_format('torch', columns=['input_ids', 'attention_mask', 'label'])\n",
    "\n",
    "# Define metrics\n",
    "def compute_metrics(p):\n",
    "    preds = p.predictions.argmax(-1)\n",
    "    precision, recall, f1, _ = precision_recall_fscore_support(p.label_ids, preds, average='macro')\n",
    "    acc = accuracy_score(p.label_ids, preds)\n",
    "    return {\"accuracy\": acc, \"f1\": f1, \"precision\": precision, \"recall\": recall}\n",
    "\n",
    "# Hyperparameter tuning\n",
    "learning_rates = [2e-5, 3e-5]\n",
    "num_epochs = [3, 4]\n",
    "best_accuracy = 0\n",
    "best_params = {}\n",
    "\n",
    "for lr, epoch in product(learning_rates, num_epochs):\n",
    "    training_args = TrainingArguments(\n",
    "        output_dir='./results',  \n",
    "        evaluation_strategy=\"epoch\",\n",
    "        learning_rate=lr,\n",
    "        per_device_train_batch_size=16,\n",
    "        per_device_eval_batch_size=16,\n",
    "        num_train_epochs=epoch,\n",
    "        weight_decay=0.01\n",
    "    )\n",
    "\n",
    "    trainer = Trainer(\n",
    "        model=model,\n",
    "        args=training_args,\n",
    "        train_dataset=train_dataset,\n",
    "        eval_dataset=test_dataset,\n",
    "        compute_metrics=compute_metrics\n",
    "    )\n",
    "\n",
    "    trainer.train()\n",
    "    eval_result = trainer.evaluate()\n",
    "    \n",
    "    if eval_result['eval_accuracy'] > best_accuracy:\n",
    "        best_accuracy = eval_result['eval_accuracy']\n",
    "        best_params = {\"learning_rate\": lr, \"num_train_epochs\": epoch}\n",
    "\n",
    "print(f\"Best params: {best_params}, Best accuracy: {best_accuracy}\")"
   ]
  },
  {
   "cell_type": "code",
   "execution_count": 5,
   "metadata": {},
   "outputs": [
    {
     "name": "stderr",
     "output_type": "stream",
     "text": [
      "c:\\Users\\Mulla\\AppData\\Local\\Programs\\Python\\Python39\\lib\\site-packages\\transformers\\training_args.py:1474: FutureWarning: `evaluation_strategy` is deprecated and will be removed in version 4.46 of 🤗 Transformers. Use `eval_strategy` instead\n",
      "  warnings.warn(\n"
     ]
    },
    {
     "data": {
      "application/vnd.jupyter.widget-view+json": {
       "model_id": "397c2ab84e48407bb5fb7a73596ba1e3",
       "version_major": 2,
       "version_minor": 0
      },
      "text/plain": [
       "  0%|          | 0/1112 [00:00<?, ?it/s]"
      ]
     },
     "metadata": {},
     "output_type": "display_data"
    },
    {
     "data": {
      "application/vnd.jupyter.widget-view+json": {
       "model_id": "0c733430cb674277987141662e7cfc47",
       "version_major": 2,
       "version_minor": 0
      },
      "text/plain": [
       "  0%|          | 0/50 [00:00<?, ?it/s]"
      ]
     },
     "metadata": {},
     "output_type": "display_data"
    },
    {
     "name": "stdout",
     "output_type": "stream",
     "text": [
      "{'eval_loss': 0.7002525329589844, 'eval_accuracy': 0.9197452229299363, 'eval_f1': 0.8993005539491791, 'eval_precision': 0.8976980555568401, 'eval_recall': 0.9009923652961628, 'eval_runtime': 51.0385, 'eval_samples_per_second': 15.381, 'eval_steps_per_second': 0.98, 'epoch': 1.0}\n",
      "{'loss': 0.0273, 'grad_norm': 0.020316896960139275, 'learning_rate': 1.6510791366906477e-05, 'epoch': 1.8}\n"
     ]
    },
    {
     "data": {
      "application/vnd.jupyter.widget-view+json": {
       "model_id": "6b466cbb7f7e4ddbb77b479d22fbcbb0",
       "version_major": 2,
       "version_minor": 0
      },
      "text/plain": [
       "  0%|          | 0/50 [00:00<?, ?it/s]"
      ]
     },
     "metadata": {},
     "output_type": "display_data"
    },
    {
     "name": "stdout",
     "output_type": "stream",
     "text": [
      "{'eval_loss': 0.6287859082221985, 'eval_accuracy': 0.9171974522292994, 'eval_f1': 0.9012993700875972, 'eval_precision': 0.901883844829675, 'eval_recall': 0.9007673301344189, 'eval_runtime': 52.5599, 'eval_samples_per_second': 14.935, 'eval_steps_per_second': 0.951, 'epoch': 2.0}\n"
     ]
    },
    {
     "data": {
      "application/vnd.jupyter.widget-view+json": {
       "model_id": "9be2ea968f2a475e8b9a240e907fb6a4",
       "version_major": 2,
       "version_minor": 0
      },
      "text/plain": [
       "  0%|          | 0/50 [00:00<?, ?it/s]"
      ]
     },
     "metadata": {},
     "output_type": "display_data"
    },
    {
     "name": "stdout",
     "output_type": "stream",
     "text": [
      "{'eval_loss': 0.6593212485313416, 'eval_accuracy': 0.9286624203821656, 'eval_f1': 0.9070949405446073, 'eval_precision': 0.9251331666008512, 'eval_recall': 0.8913217404356645, 'eval_runtime': 52.2248, 'eval_samples_per_second': 15.031, 'eval_steps_per_second': 0.957, 'epoch': 3.0}\n",
      "{'loss': 0.0122, 'grad_norm': 0.0023053139448165894, 'learning_rate': 3.0215827338129496e-06, 'epoch': 3.6}\n"
     ]
    },
    {
     "data": {
      "application/vnd.jupyter.widget-view+json": {
       "model_id": "ec529c1eb9814d2097c39cd78818ae68",
       "version_major": 2,
       "version_minor": 0
      },
      "text/plain": [
       "  0%|          | 0/50 [00:00<?, ?it/s]"
      ]
     },
     "metadata": {},
     "output_type": "display_data"
    },
    {
     "name": "stdout",
     "output_type": "stream",
     "text": [
      "{'eval_loss': 0.6130384802818298, 'eval_accuracy': 0.9248407643312102, 'eval_f1': 0.9023609708662198, 'eval_precision': 0.9118815925538614, 'eval_recall': 0.8935576277348428, 'eval_runtime': 52.2878, 'eval_samples_per_second': 15.013, 'eval_steps_per_second': 0.956, 'epoch': 4.0}\n",
      "{'train_runtime': 3958.6091, 'train_samples_per_second': 4.492, 'train_steps_per_second': 0.281, 'train_loss': 0.01782830698053828, 'epoch': 4.0}\n"
     ]
    },
    {
     "data": {
      "text/plain": [
       "TrainOutput(global_step=1112, training_loss=0.01782830698053828, metrics={'train_runtime': 3958.6091, 'train_samples_per_second': 4.492, 'train_steps_per_second': 0.281, 'total_flos': 588960557512704.0, 'train_loss': 0.01782830698053828, 'epoch': 4.0})"
      ]
     },
     "execution_count": 5,
     "metadata": {},
     "output_type": "execute_result"
    }
   ],
   "source": [
    "# Retrain with best params\n",
    "training_args = TrainingArguments(\n",
    "    output_dir='./results',  # This is required by TrainingArguments\n",
    "    evaluation_strategy=\"epoch\",\n",
    "    learning_rate=best_params[\"learning_rate\"],\n",
    "    per_device_train_batch_size=16,\n",
    "    per_device_eval_batch_size=16,\n",
    "    num_train_epochs=best_params[\"num_train_epochs\"],\n",
    "    weight_decay=0.01\n",
    ")\n",
    "\n",
    "trainer = Trainer(\n",
    "    model=model,\n",
    "    args=training_args,\n",
    "    train_dataset=train_dataset,\n",
    "    eval_dataset=test_dataset,\n",
    "    compute_metrics=compute_metrics\n",
    ")\n",
    "\n",
    "trainer.train()"
   ]
  },
  {
   "cell_type": "code",
   "execution_count": 6,
   "metadata": {},
   "outputs": [
    {
     "data": {
      "text/plain": [
       "('./group2_fin_model\\\\tokenizer_config.json',\n",
       " './group2_fin_model\\\\special_tokens_map.json',\n",
       " './group2_fin_model\\\\vocab.txt',\n",
       " './group2_fin_model\\\\added_tokens.json',\n",
       " './group2_fin_model\\\\tokenizer.json')"
      ]
     },
     "execution_count": 6,
     "metadata": {},
     "output_type": "execute_result"
    }
   ],
   "source": [
    "# Save the best model\n",
    "model.save_pretrained('./group2_fin_model')\n",
    "tokenizer.save_pretrained('./group2_fin_model')"
   ]
  }
 ],
 "metadata": {
  "kernelspec": {
   "display_name": "Python 3",
   "language": "python",
   "name": "python3"
  },
  "language_info": {
   "codemirror_mode": {
    "name": "ipython",
    "version": 3
   },
   "file_extension": ".py",
   "mimetype": "text/x-python",
   "name": "python",
   "nbconvert_exporter": "python",
   "pygments_lexer": "ipython3",
   "version": "3.9.13"
  }
 },
 "nbformat": 4,
 "nbformat_minor": 2
}
